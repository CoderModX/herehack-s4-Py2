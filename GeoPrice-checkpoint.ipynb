{
 "cells": [
  {
   "cell_type": "code",
   "execution_count": 15,
   "id": "6b9e49a2",
   "metadata": {},
   "outputs": [],
   "source": [
    "import json\n",
    "import requests as req\n",
    "import pandas as pd"
   ]
  },
  {
   "cell_type": "code",
   "execution_count": 20,
   "id": "71879f26",
   "metadata": {},
   "outputs": [
    {
     "data": {
      "text/html": [
       "<div>\n",
       "<style scoped>\n",
       "    .dataframe tbody tr th:only-of-type {\n",
       "        vertical-align: middle;\n",
       "    }\n",
       "\n",
       "    .dataframe tbody tr th {\n",
       "        vertical-align: top;\n",
       "    }\n",
       "\n",
       "    .dataframe thead th {\n",
       "        text-align: right;\n",
       "    }\n",
       "</style>\n",
       "<table border=\"1\" class=\"dataframe\">\n",
       "  <thead>\n",
       "    <tr style=\"text-align: right;\">\n",
       "      <th></th>\n",
       "      <th>longitude</th>\n",
       "      <th>latitude</th>\n",
       "      <th>Predicted Price</th>\n",
       "    </tr>\n",
       "  </thead>\n",
       "  <tbody>\n",
       "    <tr>\n",
       "      <th>0</th>\n",
       "      <td>-122.43</td>\n",
       "      <td>37.78</td>\n",
       "      <td>250000.0</td>\n",
       "    </tr>\n",
       "    <tr>\n",
       "      <th>1</th>\n",
       "      <td>-122.43</td>\n",
       "      <td>37.78</td>\n",
       "      <td>171188.0</td>\n",
       "    </tr>\n",
       "    <tr>\n",
       "      <th>2</th>\n",
       "      <td>-122.42</td>\n",
       "      <td>37.78</td>\n",
       "      <td>97306.0</td>\n",
       "    </tr>\n",
       "    <tr>\n",
       "      <th>3</th>\n",
       "      <td>-122.42</td>\n",
       "      <td>37.78</td>\n",
       "      <td>102722.0</td>\n",
       "    </tr>\n",
       "    <tr>\n",
       "      <th>4</th>\n",
       "      <td>-122.43</td>\n",
       "      <td>37.78</td>\n",
       "      <td>480382.0</td>\n",
       "    </tr>\n",
       "  </tbody>\n",
       "</table>\n",
       "</div>"
      ],
      "text/plain": [
       "   longitude  latitude  Predicted Price\n",
       "0    -122.43     37.78         250000.0\n",
       "1    -122.43     37.78         171188.0\n",
       "2    -122.42     37.78          97306.0\n",
       "3    -122.42     37.78         102722.0\n",
       "4    -122.43     37.78         480382.0"
      ]
     },
     "execution_count": 20,
     "metadata": {},
     "output_type": "execute_result"
    }
   ],
   "source": [
    "df = pd.read_excel('HousePredTab.xlsx')\n",
    "df.head()"
   ]
  },
  {
   "cell_type": "code",
   "execution_count": 8,
   "id": "77be8a7d",
   "metadata": {},
   "outputs": [
    {
     "ename": "NameError",
     "evalue": "name 'df' is not defined",
     "output_type": "error",
     "traceback": [
      "\u001b[1;31m---------------------------------------------------------------------------\u001b[0m",
      "\u001b[1;31mNameError\u001b[0m                                 Traceback (most recent call last)",
      "Input \u001b[1;32mIn [8]\u001b[0m, in \u001b[0;36m<cell line: 1>\u001b[1;34m()\u001b[0m\n\u001b[1;32m----> 1\u001b[0m n \u001b[38;5;241m=\u001b[39m \u001b[38;5;28mlen\u001b[39m(\u001b[43mdf\u001b[49m)\n\u001b[0;32m      2\u001b[0m city \u001b[38;5;241m=\u001b[39m []\n\u001b[0;32m      3\u001b[0m \u001b[38;5;66;03m# for i in range(n//300):\u001b[39;00m\n",
      "\u001b[1;31mNameError\u001b[0m: name 'df' is not defined"
     ]
    }
   ],
   "source": [
    "n = len(df)\n",
    "city = []\n",
    "# for i in range(n//300):\n",
    "    \n",
    "long = df['longitude'][0]\n",
    "lat = df['latitude'][0]\n",
    "rg = f\"https://revgeocode.search.hereapi.com/v1/revgeocode?at={lat}%2C{long}&lang=en-US&apiKey={api_key}\"\n",
    "api = req.get(rg)\n",
    "files = api.json()\n",
    "# city_name = files['items'][0]['address']['city']\n",
    "# city.append(city_name)\n",
    "files\n"
   ]
  },
  {
   "cell_type": "code",
   "execution_count": 47,
   "id": "614c850d",
   "metadata": {},
   "outputs": [
    {
     "name": "stdout",
     "output_type": "stream",
     "text": [
      "['San Francisco', 'San Francisco', 'San Francisco', 'San Francisco', 'San Francisco', 'San Francisco', 'San Francisco', 'San Francisco', 'San Francisco', 'San Francisco', 'San Francisco', 'San Francisco', 'San Francisco']\n"
     ]
    }
   ],
   "source": [
    "print(city)"
   ]
  },
  {
   "cell_type": "code",
   "execution_count": 56,
   "id": "e65128fe",
   "metadata": {},
   "outputs": [],
   "source": [
    "# df['city'] = city"
   ]
  },
  {
   "cell_type": "code",
   "execution_count": 40,
   "id": "1a3a0c16",
   "metadata": {},
   "outputs": [
    {
     "data": {
      "text/plain": [
       "'San Francisco'"
      ]
     },
     "execution_count": 40,
     "metadata": {},
     "output_type": "execute_result"
    }
   ],
   "source": [
    "filename = 'HousePredTabUpdated.csv'\n",
    "\n",
    "df.to_csv(filename)"
   ]
  },
  {
   "cell_type": "code",
   "execution_count": 21,
   "id": "0b2f7d1d",
   "metadata": {},
   "outputs": [
    {
     "data": {
      "text/plain": [
       "dict"
      ]
     },
     "execution_count": 21,
     "metadata": {},
     "output_type": "execute_result"
    }
   ],
   "source": [
    "type(files)"
   ]
  },
  {
   "cell_type": "code",
   "execution_count": 39,
   "id": "39bdd3db",
   "metadata": {},
   "outputs": [
    {
     "name": "stdout",
     "output_type": "stream",
     "text": [
      "vaishali sector 2\n"
     ]
    },
    {
     "data": {
      "text/plain": [
       "{'results': [{'title': '2, Dharm Marg (Vaishali Road)',\n",
       "   'highlightedTitle': '<b>2</b>, Dharm Marg (<b>Vaishali</b> Road)',\n",
       "   'vicinity': 'Ghaziabad 201010 UP<br/>India',\n",
       "   'highlightedVicinity': 'Ghaziabad 201010 UP<br/>India',\n",
       "   'position': [28.64514, 77.337372],\n",
       "   'category': 'building',\n",
       "   'categoryTitle': 'Building',\n",
       "   'href': 'https://places.ls.hereapi.com/places/v1/places/loc-dmVyc2lvbj0xO3RpdGxlPTIlMkMrRGhhcm0rTWFyZyslMjhWYWlzaGFsaStSb2FkJTI5O2xhbmc9ZW47bGF0PTI4LjY0NTEzOTY5NDIxMzg2Nztsb249NzcuMzM3MzcxODI2MTcxODg7c3RyZWV0PVZhaXNoYWxpK1JvYWQ7aG91c2U9TGVpbGErSG9tZStMZWVsYStIb21lcztjaXR5PUdoYXppYWJhZDtwb3N0YWxDb2RlPTIwMTAxMDtjb3VudHJ5PUlORDtkaXN0cmljdD1WYWlzaGFsaTtzdGF0ZT1VdHRhcitQcmFkZXNoO3N0YXRlQ29kZT1VUDtjb3VudHk9R2hhemlhYmFkO2NhdGVnb3J5SWQ9YnVpbGRpbmc7c291cmNlU3lzdGVtPWludGVybmFsO25sYXQ9MjguNjQ1MjE5ODAyODU2NDQ1O25sb249NzcuMzM3NDQ4MTIwMTE3MTk7cGRzQ2F0ZWdvcnlJZD05MDAtOTMwMC0wMDAw;context=Zmxvdy1pZD04OTIwN2YyMC0wOTNiLTVjNDYtOWYzNy03OGI3NjQ3YWY2MGJfMTY2OTM3OTc1NTAxNV8xNzU3XzI0MjgmcmFuaz0w?app_id=mvZteHJmFPxHWM0r700n&app_code=CsZLIW2QCGZHZb5dZkh7Hw',\n",
       "   'type': 'urn:nlp-types:place',\n",
       "   'resultType': 'address',\n",
       "   'id': 'loc-dmVyc2lvbj0xO3RpdGxlPTIlMkMrRGhhcm0rTWFyZyslMjhWYWlzaGFsaStSb2FkJTI5O2xhbmc9ZW47bGF0PTI4LjY0NTEzOTY5NDIxMzg2Nztsb249NzcuMzM3MzcxODI2MTcxODg7c3RyZWV0PVZhaXNoYWxpK1JvYWQ7aG91c2U9TGVpbGErSG9tZStMZWVsYStIb21lcztjaXR5PUdoYXppYWJhZDtwb3N0YWxDb2RlPTIwMTAxMDtjb3VudHJ5PUlORDtkaXN0cmljdD1WYWlzaGFsaTtzdGF0ZT1VdHRhcitQcmFkZXNoO3N0YXRlQ29kZT1VUDtjb3VudHk9R2hhemlhYmFkO2NhdGVnb3J5SWQ9YnVpbGRpbmc7c291cmNlU3lzdGVtPWludGVybmFsO25sYXQ9MjguNjQ1MjE5ODAyODU2NDQ1O25sb249NzcuMzM3NDQ4MTIwMTE3MTk7cGRzQ2F0ZWdvcnlJZD05MDAtOTMwMC0wMDAw',\n",
       "   'distance': 12369261},\n",
       "  {'title': 'Sector 1 Vaishali Main Road',\n",
       "   'highlightedTitle': '<b>Sector</b> 1 <b>Vaishali</b> Main Road',\n",
       "   'vicinity': 'Ghaziabad 201019 UP<br/>India',\n",
       "   'highlightedVicinity': 'Ghaziabad 201019 UP<br/>India',\n",
       "   'position': [28.63762, 77.33641],\n",
       "   'category': 'street-square',\n",
       "   'categoryTitle': 'Street or Square',\n",
       "   'bbox': [77.336189, 28.63685, 77.336723, 28.638411],\n",
       "   'href': 'https://places.ls.hereapi.com/places/v1/places/loc-dmVyc2lvbj0xO3RpdGxlPVNlY3RvcisxK1ZhaXNoYWxpK01haW4rUm9hZDtsYW5nPWVuO2xhdD0yOC42Mzc2Mjtsb249NzcuMzM2NDE7c3RyZWV0PVNlY3RvcisxK1ZhaXNoYWxpK01haW4rUm9hZDtjaXR5PUdoYXppYWJhZDtwb3N0YWxDb2RlPTIwMTAxOTtjb3VudHJ5PUlORDtkaXN0cmljdD1WYWlzaGFsaTtzdGF0ZT1VdHRhcitQcmFkZXNoO3N0YXRlQ29kZT1VUDtjb3VudHk9R2hhemlhYmFkO2NhdGVnb3J5SWQ9c3RyZWV0LXNxdWFyZTtzb3VyY2VTeXN0ZW09aW50ZXJuYWw7cGRzQ2F0ZWdvcnlJZD05MDAtOTQwMC0wNDAx;context=Zmxvdy1pZD04OTIwN2YyMC0wOTNiLTVjNDYtOWYzNy03OGI3NjQ3YWY2MGJfMTY2OTM3OTc1NTAxNV8xNzU3XzI0MjgmYmJveD03Ny4zMzYxODkyNzAwMTk1MyUyQzI4LjYzNjg1MDM1NzA1NTY2NCUyQzc3LjMzNjcyMzMyNzYzNjcyJTJDMjguNjM4NDEwNTY4MjM3MzA1JnJhbms9MQ?app_id=mvZteHJmFPxHWM0r700n&app_code=CsZLIW2QCGZHZb5dZkh7Hw',\n",
       "   'type': 'urn:nlp-types:place',\n",
       "   'resultType': 'address',\n",
       "   'id': 'loc-dmVyc2lvbj0xO3RpdGxlPVNlY3RvcisxK1ZhaXNoYWxpK01haW4rUm9hZDtsYW5nPWVuO2xhdD0yOC42Mzc2Mjtsb249NzcuMzM2NDE7c3RyZWV0PVNlY3RvcisxK1ZhaXNoYWxpK01haW4rUm9hZDtjaXR5PUdoYXppYWJhZDtwb3N0YWxDb2RlPTIwMTAxOTtjb3VudHJ5PUlORDtkaXN0cmljdD1WYWlzaGFsaTtzdGF0ZT1VdHRhcitQcmFkZXNoO3N0YXRlQ29kZT1VUDtjb3VudHk9R2hhemlhYmFkO2NhdGVnb3J5SWQ9c3RyZWV0LXNxdWFyZTtzb3VyY2VTeXN0ZW09aW50ZXJuYWw7cGRzQ2F0ZWdvcnlJZD05MDAtOTQwMC0wNDAx',\n",
       "   'distance': 12370087},\n",
       "  {'title': 'Vaishali Metro Station-Gate No 2',\n",
       "   'highlightedTitle': '<b>Vaishali</b> Metro Station-Gate No <b>2</b>',\n",
       "   'vicinity': 'Sector 4 Road<br/>Ghaziabad 201019 UP<br/>India',\n",
       "   'highlightedVicinity': '<b>Sector</b> 4 Road<br/>Ghaziabad 201019 UP<br/>India',\n",
       "   'position': [28.64909, 77.338672],\n",
       "   'category': 'public-transport',\n",
       "   'categoryTitle': 'Public Transport',\n",
       "   'href': 'https://places.ls.hereapi.com/places/v1/places/356jx7ps-23cc6539a78208ed93523b8b7fe08a3e;context=Zmxvdy1pZD04OTIwN2YyMC0wOTNiLTVjNDYtOWYzNy03OGI3NjQ3YWY2MGJfMTY2OTM3OTc1NTAxNV8xNzU3XzI0MjgmcmFuaz0y?app_id=mvZteHJmFPxHWM0r700n&app_code=CsZLIW2QCGZHZb5dZkh7Hw',\n",
       "   'type': 'urn:nlp-types:place',\n",
       "   'resultType': 'place',\n",
       "   'id': '356jx7ps-23cc6539a78208ed93523b8b7fe08a3e',\n",
       "   'distance': 12368805},\n",
       "  {'title': 'Dharm Marg (Vaishali Road)',\n",
       "   'highlightedTitle': 'Dharm Marg (<b>Vaishali</b> Road)',\n",
       "   'vicinity': 'Ghaziabad 201019 UP<br/>India',\n",
       "   'highlightedVicinity': 'Ghaziabad 201019 UP<br/>India',\n",
       "   'position': [28.64151, 77.34172],\n",
       "   'category': 'street-square',\n",
       "   'categoryTitle': 'Street or Square',\n",
       "   'bbox': [77.334602, 28.63982, 77.343727, 28.647699],\n",
       "   'href': 'https://places.ls.hereapi.com/places/v1/places/loc-dmVyc2lvbj0xO3RpdGxlPURoYXJtK01hcmcrJTI4VmFpc2hhbGkrUm9hZCUyOTtsYW5nPWVuO2xhdD0yOC42NDE1MTtsb249NzcuMzQxNzI7c3RyZWV0PVZhaXNoYWxpK1JvYWQ7Y2l0eT1HaGF6aWFiYWQ7cG9zdGFsQ29kZT0yMDEwMTk7Y291bnRyeT1JTkQ7ZGlzdHJpY3Q9VmFpc2hhbGk7c3RhdGU9VXR0YXIrUHJhZGVzaDtzdGF0ZUNvZGU9VVA7Y291bnR5PUdoYXppYWJhZDtjYXRlZ29yeUlkPXN0cmVldC1zcXVhcmU7c291cmNlU3lzdGVtPWludGVybmFsO3Bkc0NhdGVnb3J5SWQ9OTAwLTk0MDAtMDQwMQ;context=Zmxvdy1pZD04OTIwN2YyMC0wOTNiLTVjNDYtOWYzNy03OGI3NjQ3YWY2MGJfMTY2OTM3OTc1NTAxNV8xNzU3XzI0MjgmYmJveD03Ny4zMzQ2MDIzNTU5NTcwMyUyQzI4LjYzOTgyMDA5ODg3Njk1MyUyQzc3LjM0MzcyNzExMTgxNjQlMkMyOC42NDc2OTkzNTYwNzkxJnJhbms9Mw?app_id=mvZteHJmFPxHWM0r700n&app_code=CsZLIW2QCGZHZb5dZkh7Hw',\n",
       "   'type': 'urn:nlp-types:place',\n",
       "   'resultType': 'address',\n",
       "   'id': 'loc-dmVyc2lvbj0xO3RpdGxlPURoYXJtK01hcmcrJTI4VmFpc2hhbGkrUm9hZCUyOTtsYW5nPWVuO2xhdD0yOC42NDE1MTtsb249NzcuMzQxNzI7c3RyZWV0PVZhaXNoYWxpK1JvYWQ7Y2l0eT1HaGF6aWFiYWQ7cG9zdGFsQ29kZT0yMDEwMTk7Y291bnRyeT1JTkQ7ZGlzdHJpY3Q9VmFpc2hhbGk7c3RhdGU9VXR0YXIrUHJhZGVzaDtzdGF0ZUNvZGU9VVA7Y291bnR5PUdoYXppYWJhZDtjYXRlZ29yeUlkPXN0cmVldC1zcXVhcmU7c291cmNlU3lzdGVtPWludGVybmFsO3Bkc0NhdGVnb3J5SWQ9OTAwLTk0MDAtMDQwMQ',\n",
       "   'distance': 12369525},\n",
       "  {'title': 'Divider Main Road (Vaishali Vasundhara Road)',\n",
       "   'highlightedTitle': 'Divider Main Road (<b>Vaishali</b> Vasundhara Road)',\n",
       "   'vicinity': 'Ghaziabad 201019 UP<br/>India',\n",
       "   'highlightedVicinity': 'Ghaziabad 201019 UP<br/>India',\n",
       "   'position': [28.65015, 77.354],\n",
       "   'category': 'street-square',\n",
       "   'categoryTitle': 'Street or Square',\n",
       "   'bbox': [77.352913, 28.648609, 77.355019, 28.65164],\n",
       "   'href': 'https://places.ls.hereapi.com/places/v1/places/loc-dmVyc2lvbj0xO3RpdGxlPURpdmlkZXIrTWFpbitSb2FkKyUyOFZhaXNoYWxpK1Zhc3VuZGhhcmErUm9hZCUyOTtsYW5nPWVuO2xhdD0yOC42NTAxNTtsb249NzcuMzU0O3N0cmVldD1WYWlzaGFsaStWYXN1bmRoYXJhK1JvYWQ7Y2l0eT1HaGF6aWFiYWQ7cG9zdGFsQ29kZT0yMDEwMTk7Y291bnRyeT1JTkQ7ZGlzdHJpY3Q9VmFpc2hhbGk7c3RhdGU9VXR0YXIrUHJhZGVzaDtzdGF0ZUNvZGU9VVA7Y291bnR5PUdoYXppYWJhZDtjYXRlZ29yeUlkPXN0cmVldC1zcXVhcmU7c291cmNlU3lzdGVtPWludGVybmFsO3Bkc0NhdGVnb3J5SWQ9OTAwLTk0MDAtMDQwMQ;context=Zmxvdy1pZD04OTIwN2YyMC0wOTNiLTVjNDYtOWYzNy03OGI3NjQ3YWY2MGJfMTY2OTM3OTc1NTAxNV8xNzU3XzI0MjgmYmJveD03Ny4zNTI5MTI5MDI4MzIwMyUyQzI4LjY0ODYwOTE2MTM3Njk1MyUyQzc3LjM1NTAxODYxNTcyMjY2JTJDMjguNjUxNjM5OTM4MzU0NDkyJnJhbms9NA?app_id=mvZteHJmFPxHWM0r700n&app_code=CsZLIW2QCGZHZb5dZkh7Hw',\n",
       "   'type': 'urn:nlp-types:place',\n",
       "   'resultType': 'address',\n",
       "   'id': 'loc-dmVyc2lvbj0xO3RpdGxlPURpdmlkZXIrTWFpbitSb2FkKyUyOFZhaXNoYWxpK1Zhc3VuZGhhcmErUm9hZCUyOTtsYW5nPWVuO2xhdD0yOC42NTAxNTtsb249NzcuMzU0O3N0cmVldD1WYWlzaGFsaStWYXN1bmRoYXJhK1JvYWQ7Y2l0eT1HaGF6aWFiYWQ7cG9zdGFsQ29kZT0yMDEwMTk7Y291bnRyeT1JTkQ7ZGlzdHJpY3Q9VmFpc2hhbGk7c3RhdGU9VXR0YXIrUHJhZGVzaDtzdGF0ZUNvZGU9VVA7Y291bnR5PUdoYXppYWJhZDtjYXRlZ29yeUlkPXN0cmVldC1zcXVhcmU7c291cmNlU3lzdGVtPWludGVybmFsO3Bkc0NhdGVnb3J5SWQ9OTAwLTk0MDAtMDQwMQ',\n",
       "   'distance': 12368264},\n",
       "  {'title': 'Park-Sector 5 Vaishali',\n",
       "   'highlightedTitle': 'Park-<b>Sector</b> 5 <b>Vaishali</b>',\n",
       "   'vicinity': 'Ghaziabad 201019 UP<br/>India',\n",
       "   'highlightedVicinity': 'Ghaziabad 201019 UP<br/>India',\n",
       "   'position': [28.64308, 77.343],\n",
       "   'category': 'recreation',\n",
       "   'categoryTitle': 'Recreation',\n",
       "   'href': 'https://places.ls.hereapi.com/places/v1/places/356jx7ps-0e5710983a7e088e99761f4535f2ceb7;context=Zmxvdy1pZD04OTIwN2YyMC0wOTNiLTVjNDYtOWYzNy03OGI3NjQ3YWY2MGJfMTY2OTM3OTc1NTAxNV8xNzU3XzI0MjgmcmFuaz01?app_id=mvZteHJmFPxHWM0r700n&app_code=CsZLIW2QCGZHZb5dZkh7Hw',\n",
       "   'type': 'urn:nlp-types:place',\n",
       "   'resultType': 'place',\n",
       "   'id': '356jx7ps-0e5710983a7e088e99761f4535f2ceb7',\n",
       "   'distance': 12369323},\n",
       "  {'title': 'Vaishali Sector 2d ',\n",
       "   'highlightedTitle': '<b>Vaishali</b> <b>Sector</b> <b>2</b>d ',\n",
       "   'completion': '2d ',\n",
       "   'href': 'https://places.ls.hereapi.com/places/v1/autosuggest;context=cmVzdWx0X3R5cGVzPXF1ZXJ5JTJDYWRkcmVzcyUyQ2NhdGVnb3J5JTJDcGxhY2UlMkNjaGFpbiZmbG93LWlkPTg5MjA3ZjIwLTA5M2ItNWM0Ni05ZjM3LTc4Yjc2NDdhZjYwYl8xNjY5Mzc5NzU1MDE1XzE3NTdfMjQyOCZyYW5rPTY?q=Vaishali+Sector+2d+&at=37.78%2C-122.439&app_id=mvZteHJmFPxHWM0r700n&app_code=CsZLIW2QCGZHZb5dZkh7Hw',\n",
       "   'type': 'urn:nlp-types:autosuggest',\n",
       "   'resultType': 'query'}]}"
      ]
     },
     "execution_count": 39,
     "metadata": {},
     "output_type": "execute_result"
    }
   ],
   "source": [
    "api_key = \"zS8ZbmTHuQSiXE3zy1CwsBZwoG5zCPakrgPVTqGMyug\"\n",
    "long = -122.43\n",
    "lat = 37.78\n",
    "lk = input()\n",
    "url2 = f\"https://places.ls.hereapi.com/places/v1/autosuggest?at={lat},{long}9&q={lk}&apiKey={api_key}\"\n",
    "a = req.get(url2)\n",
    "f = a.json()\n",
    "f"
   ]
  },
  {
   "cell_type": "code",
   "execution_count": 38,
   "id": "3ebd6a74",
   "metadata": {},
   "outputs": [
    {
     "data": {
      "text/plain": [
       "20"
      ]
     },
     "execution_count": 38,
     "metadata": {},
     "output_type": "execute_result"
    }
   ],
   "source": [
    "len(f['results'])"
   ]
  },
  {
   "cell_type": "code",
   "execution_count": null,
   "id": "6a7a52a3",
   "metadata": {},
   "outputs": [],
   "source": []
  }
 ],
 "metadata": {
  "kernelspec": {
   "display_name": "Python 3 (ipykernel)",
   "language": "python",
   "name": "python3"
  },
  "language_info": {
   "codemirror_mode": {
    "name": "ipython",
    "version": 3
   },
   "file_extension": ".py",
   "mimetype": "text/x-python",
   "name": "python",
   "nbconvert_exporter": "python",
   "pygments_lexer": "ipython3",
   "version": "3.10.7"
  }
 },
 "nbformat": 4,
 "nbformat_minor": 5
}
