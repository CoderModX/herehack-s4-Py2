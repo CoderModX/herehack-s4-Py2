{
 "cells": [
  {
   "cell_type": "code",
   "execution_count": 14,
   "id": "65ffe806",
   "metadata": {},
   "outputs": [],
   "source": [
    "import json\n",
    "import requests as req\n",
    "import pandas as pd"
   ]
  },
  {
   "cell_type": "code",
   "execution_count": 50,
   "id": "df1027d8",
   "metadata": {},
   "outputs": [
    {
     "name": "stdout",
     "output_type": "stream",
     "text": [
      "vaishali sector 2\n"
     ]
    }
   ],
   "source": [
    "query = input()"
   ]
  },
  {
   "cell_type": "code",
   "execution_count": 51,
   "id": "f297e427",
   "metadata": {},
   "outputs": [],
   "source": [
    "url = f\"https://geocode.search.hereapi.com/v1/geocode?q={query}&apiKey=zS8ZbmTHuQSiXE3zy1CwsBZwoG5zCPakrgPVTqGMyug\""
   ]
  },
  {
   "cell_type": "code",
   "execution_count": 52,
   "id": "97559eaa",
   "metadata": {},
   "outputs": [],
   "source": [
    "api = req.get(url)"
   ]
  },
  {
   "cell_type": "code",
   "execution_count": 53,
   "id": "f917f79d",
   "metadata": {
    "scrolled": true
   },
   "outputs": [
    {
     "data": {
      "text/plain": [
       "{'items': [{'title': 'Leila Home Leela Homes, 2 Dharm Marg, Sector 4, Vaishali, Ghaziabad 201010, India',\n",
       "   'id': 'here:af:streetsection:.un283lc2GFIAQOd3eO1DA:CggIBCD6q_-SAxABGgEyIhZMZWlsYSBIb21lIExlZWxhIEhvbWVz',\n",
       "   'resultType': 'houseNumber',\n",
       "   'houseNumberType': 'PA',\n",
       "   'address': {'label': 'Leila Home Leela Homes, 2 Dharm Marg, Sector 4, Vaishali, Ghaziabad 201010, India',\n",
       "    'countryCode': 'IND',\n",
       "    'countryName': 'India',\n",
       "    'stateCode': 'UP',\n",
       "    'state': 'Uttar Pradesh',\n",
       "    'county': 'Ghaziabad',\n",
       "    'city': 'Ghaziabad',\n",
       "    'district': 'Vaishali',\n",
       "    'subdistrict': 'Sector 4',\n",
       "    'street': 'Dharm Marg',\n",
       "    'postalCode': '201010',\n",
       "    'houseNumber': '2',\n",
       "    'building': 'Leila Home Leela Homes'},\n",
       "   'position': {'lat': 28.64514, 'lng': 77.33737},\n",
       "   'access': [{'lat': 28.64521, 'lng': 77.33745}],\n",
       "   'mapView': {'west': 77.33635,\n",
       "    'south': 28.64424,\n",
       "    'east': 77.33839,\n",
       "    'north': 28.64604},\n",
       "   'scoring': {'queryScore': 0.99,\n",
       "    'fieldScore': {'subdistrict': 0.86,\n",
       "     'streets': [0.9],\n",
       "     'houseNumber': 1.0}}}]}"
      ]
     },
     "execution_count": 53,
     "metadata": {},
     "output_type": "execute_result"
    }
   ],
   "source": [
    "data = api.json()\n",
    "data"
   ]
  },
  {
   "cell_type": "code",
   "execution_count": null,
   "id": "c37369a7",
   "metadata": {},
   "outputs": [],
   "source": []
  }
 ],
 "metadata": {
  "kernelspec": {
   "display_name": "Python 3 (ipykernel)",
   "language": "python",
   "name": "python3"
  },
  "language_info": {
   "codemirror_mode": {
    "name": "ipython",
    "version": 3
   },
   "file_extension": ".py",
   "mimetype": "text/x-python",
   "name": "python",
   "nbconvert_exporter": "python",
   "pygments_lexer": "ipython3",
   "version": "3.10.7"
  }
 },
 "nbformat": 4,
 "nbformat_minor": 5
}
