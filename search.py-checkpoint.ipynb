{
 "cells": [
  {
   "cell_type": "code",
   "execution_count": 14,
   "id": "65ffe806",
   "metadata": {},
   "outputs": [],
   "source": [
    "import json\n",
    "import requests as req\n",
    "import pandas as pd"
   ]
  },
  {
   "cell_type": "code",
   "execution_count": 44,
   "id": "df1027d8",
   "metadata": {},
   "outputs": [
    {
     "name": "stdout",
     "output_type": "stream",
     "text": [
      "Rashtrapati Bhavan\n"
     ]
    }
   ],
   "source": [
    "query = input()"
   ]
  },
  {
   "cell_type": "code",
   "execution_count": 45,
   "id": "f297e427",
   "metadata": {},
   "outputs": [],
   "source": [
    "url = f\"https://geocode.search.hereapi.com/v1/geocode?q={query}&apiKey=\""
   ]
  },
  {
   "cell_type": "code",
   "execution_count": 46,
   "id": "97559eaa",
   "metadata": {},
   "outputs": [],
   "source": [
    "api = req.get(url)"
   ]
  },
  {
   "cell_type": "code",
   "execution_count": 47,
   "id": "f917f79d",
   "metadata": {
    "scrolled": true
   },
   "outputs": [
    {
     "data": {
      "text/plain": [
       "{'items': [{'title': 'Rashtrapati Bhavan Road, Presidents Estate, New Delhi 110011, India',\n",
       "   'id': 'here:af:street:6LgP5W1TTxYbSPfGLeOEcC',\n",
       "   'resultType': 'street',\n",
       "   'address': {'label': 'Rashtrapati Bhavan Road, Presidents Estate, New Delhi 110011, India',\n",
       "    'countryCode': 'IND',\n",
       "    'countryName': 'India',\n",
       "    'stateCode': 'DL',\n",
       "    'state': 'Delhi',\n",
       "    'county': 'New Delhi',\n",
       "    'city': 'New Delhi',\n",
       "    'district': 'Presidents Estate',\n",
       "    'street': 'Rashtrapati Bhavan Road',\n",
       "    'postalCode': '110011'},\n",
       "   'position': {'lat': 28.61595, 'lng': 77.20617},\n",
       "   'mapView': {'west': 77.20463,\n",
       "    'south': 28.61595,\n",
       "    'east': 77.20773,\n",
       "    'north': 28.61653},\n",
       "   'scoring': {'queryScore': 0.99, 'fieldScore': {'streets': [0.9]}}},\n",
       "  {'title': 'Rashtrapati Bhawan Road, Presidents Estate, New Delhi 110011, India',\n",
       "   'id': 'here:af:street:.R-TT.XgKlizIrzENLTIqD',\n",
       "   'resultType': 'street',\n",
       "   'address': {'label': 'Rashtrapati Bhawan Road, Presidents Estate, New Delhi 110011, India',\n",
       "    'countryCode': 'IND',\n",
       "    'countryName': 'India',\n",
       "    'stateCode': 'DL',\n",
       "    'state': 'Delhi',\n",
       "    'county': 'New Delhi',\n",
       "    'city': 'New Delhi',\n",
       "    'district': 'Presidents Estate',\n",
       "    'street': 'Rashtrapati Bhawan Road',\n",
       "    'postalCode': '110011'},\n",
       "   'position': {'lat': 28.61595, 'lng': 77.20617},\n",
       "   'mapView': {'west': 77.20463,\n",
       "    'south': 28.61595,\n",
       "    'east': 77.20773,\n",
       "    'north': 28.61653},\n",
       "   'scoring': {'queryScore': 0.94, 'fieldScore': {'streets': [0.84]}}}]}"
      ]
     },
     "execution_count": 47,
     "metadata": {},
     "output_type": "execute_result"
    }
   ],
   "source": [
    "data = api.json()\n",
    "data"
   ]
  },
  {
   "cell_type": "code",
   "execution_count": null,
   "id": "c37369a7",
   "metadata": {},
   "outputs": [],
   "source": []
  }
 ],
 "metadata": {
  "kernelspec": {
   "display_name": "Python 3 (ipykernel)",
   "language": "python",
   "name": "python3"
  },
  "language_info": {
   "codemirror_mode": {
    "name": "ipython",
    "version": 3
   },
   "file_extension": ".py",
   "mimetype": "text/x-python",
   "name": "python",
   "nbconvert_exporter": "python",
   "pygments_lexer": "ipython3",
   "version": "3.10.7"
  }
 },
 "nbformat": 4,
 "nbformat_minor": 5
}
