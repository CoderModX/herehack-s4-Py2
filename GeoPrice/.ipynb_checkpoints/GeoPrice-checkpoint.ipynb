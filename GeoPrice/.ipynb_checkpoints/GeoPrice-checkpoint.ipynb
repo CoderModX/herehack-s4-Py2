{
 "cells": [
  {
   "cell_type": "code",
   "execution_count": 15,
   "id": "6b9e49a2",
   "metadata": {},
   "outputs": [],
   "source": [
    "import json\n",
    "import requests as req\n",
    "import pandas as pd"
   ]
  },
  {
   "cell_type": "code",
   "execution_count": 20,
   "id": "71879f26",
   "metadata": {},
   "outputs": [
    {
     "data": {
      "text/html": [
       "<div>\n",
       "<style scoped>\n",
       "    .dataframe tbody tr th:only-of-type {\n",
       "        vertical-align: middle;\n",
       "    }\n",
       "\n",
       "    .dataframe tbody tr th {\n",
       "        vertical-align: top;\n",
       "    }\n",
       "\n",
       "    .dataframe thead th {\n",
       "        text-align: right;\n",
       "    }\n",
       "</style>\n",
       "<table border=\"1\" class=\"dataframe\">\n",
       "  <thead>\n",
       "    <tr style=\"text-align: right;\">\n",
       "      <th></th>\n",
       "      <th>longitude</th>\n",
       "      <th>latitude</th>\n",
       "      <th>Predicted Price</th>\n",
       "    </tr>\n",
       "  </thead>\n",
       "  <tbody>\n",
       "    <tr>\n",
       "      <th>0</th>\n",
       "      <td>-122.43</td>\n",
       "      <td>37.78</td>\n",
       "      <td>250000.0</td>\n",
       "    </tr>\n",
       "    <tr>\n",
       "      <th>1</th>\n",
       "      <td>-122.43</td>\n",
       "      <td>37.78</td>\n",
       "      <td>171188.0</td>\n",
       "    </tr>\n",
       "    <tr>\n",
       "      <th>2</th>\n",
       "      <td>-122.42</td>\n",
       "      <td>37.78</td>\n",
       "      <td>97306.0</td>\n",
       "    </tr>\n",
       "    <tr>\n",
       "      <th>3</th>\n",
       "      <td>-122.42</td>\n",
       "      <td>37.78</td>\n",
       "      <td>102722.0</td>\n",
       "    </tr>\n",
       "    <tr>\n",
       "      <th>4</th>\n",
       "      <td>-122.43</td>\n",
       "      <td>37.78</td>\n",
       "      <td>480382.0</td>\n",
       "    </tr>\n",
       "  </tbody>\n",
       "</table>\n",
       "</div>"
      ],
      "text/plain": [
       "   longitude  latitude  Predicted Price\n",
       "0    -122.43     37.78         250000.0\n",
       "1    -122.43     37.78         171188.0\n",
       "2    -122.42     37.78          97306.0\n",
       "3    -122.42     37.78         102722.0\n",
       "4    -122.43     37.78         480382.0"
      ]
     },
     "execution_count": 20,
     "metadata": {},
     "output_type": "execute_result"
    }
   ],
   "source": [
    "df = pd.read_excel('..\\HousePredTab.xlsx')\n",
    "df.head()"
   ]
  },
  {
   "cell_type": "code",
   "execution_count": 8,
   "id": "77be8a7d",
   "metadata": {},
   "outputs": [
    {
     "ename": "NameError",
     "evalue": "name 'df' is not defined",
     "output_type": "error",
     "traceback": [
      "\u001b[1;31m---------------------------------------------------------------------------\u001b[0m",
      "\u001b[1;31mNameError\u001b[0m                                 Traceback (most recent call last)",
      "Input \u001b[1;32mIn [8]\u001b[0m, in \u001b[0;36m<cell line: 1>\u001b[1;34m()\u001b[0m\n\u001b[1;32m----> 1\u001b[0m n \u001b[38;5;241m=\u001b[39m \u001b[38;5;28mlen\u001b[39m(\u001b[43mdf\u001b[49m)\n\u001b[0;32m      2\u001b[0m city \u001b[38;5;241m=\u001b[39m []\n\u001b[0;32m      3\u001b[0m \u001b[38;5;66;03m# for i in range(n//300):\u001b[39;00m\n",
      "\u001b[1;31mNameError\u001b[0m: name 'df' is not defined"
     ]
    }
   ],
   "source": [
    "n = len(df)\n",
    "city = []\n",
    "# for i in range(n//300):\n",
    "    \n",
    "long = df['longitude'][0]\n",
    "lat = df['latitude'][0]\n",
    "rg = f\"https://revgeocode.search.hereapi.com/v1/revgeocode?at={lat}%2C{long}&lang=en-US&apiKey={api_key}\"\n",
    "api = req.get(rg)\n",
    "files = api.json()\n",
    "# city_name = files['items'][0]['address']['city']\n",
    "# city.append(city_name)\n",
    "files\n"
   ]
  },
  {
   "cell_type": "code",
   "execution_count": 47,
   "id": "614c850d",
   "metadata": {},
   "outputs": [
    {
     "name": "stdout",
     "output_type": "stream",
     "text": [
      "['San Francisco', 'San Francisco', 'San Francisco', 'San Francisco', 'San Francisco', 'San Francisco', 'San Francisco', 'San Francisco', 'San Francisco', 'San Francisco', 'San Francisco', 'San Francisco', 'San Francisco']\n"
     ]
    }
   ],
   "source": [
    "print(city)"
   ]
  },
  {
   "cell_type": "code",
   "execution_count": 56,
   "id": "e65128fe",
   "metadata": {},
   "outputs": [],
   "source": [
    "# df['city'] = city"
   ]
  },
  {
   "cell_type": "code",
   "execution_count": 40,
   "id": "1a3a0c16",
   "metadata": {},
   "outputs": [
    {
     "data": {
      "text/plain": [
       "'San Francisco'"
      ]
     },
     "execution_count": 40,
     "metadata": {},
     "output_type": "execute_result"
    }
   ],
   "source": [
    "filename = 'HousePredTabUpdated.csv'\n",
    "\n",
    "df.to_csv(filename)"
   ]
  },
  {
   "cell_type": "code",
   "execution_count": 21,
   "id": "0b2f7d1d",
   "metadata": {},
   "outputs": [
    {
     "data": {
      "text/plain": [
       "dict"
      ]
     },
     "execution_count": 21,
     "metadata": {},
     "output_type": "execute_result"
    }
   ],
   "source": [
    "type(files)"
   ]
  },
  {
   "cell_type": "code",
   "execution_count": 37,
   "id": "39bdd3db",
   "metadata": {},
   "outputs": [
    {
     "name": "stdout",
     "output_type": "stream",
     "text": [
      "airport\n"
     ]
    },
    {
     "data": {
      "text/plain": [
       "{'results': [{'title': 'airport',\n",
       "   'highlightedTitle': '<b>airport</b>',\n",
       "   'category': 'airport',\n",
       "   'href': 'https://places.ls.hereapi.com/places/v1/autosuggest/search;context=Zmxvdy1pZD04MGNmOTE0ZC02MjFjLTVmNGYtYTRjMS02NTlhY2IyZWJkMmRfMTY2OTM3NjYzNjA2Ml8xMjQ3Xzk4MzgmcmFuaz0wJmF0PTM3Ljc4JTJDLTEyMi40Mzk?filters=vi%3Aautosuggest%2Ccategory%3Aairport&app_id=mvZteHJmFPxHWM0r700n&app_code=CsZLIW2QCGZHZb5dZkh7Hw',\n",
       "   'type': 'urn:nlp-types:search',\n",
       "   'resultType': 'category'},\n",
       "  {'title': 'airport cargo',\n",
       "   'highlightedTitle': '<b>airport</b> cargo',\n",
       "   'category': 'facilities',\n",
       "   'href': 'https://places.ls.hereapi.com/places/v1/autosuggest/search;context=Zmxvdy1pZD04MGNmOTE0ZC02MjFjLTVmNGYtYTRjMS02NTlhY2IyZWJkMmRfMTY2OTM3NjYzNjA2Ml8xMjQ3Xzk4MzgmcmFuaz0xJmF0PTM3Ljc4JTJDLTEyMi40Mzk?filters=vi%3Aautosuggest%2Ccategory%3Aairport-cargo&app_id=mvZteHJmFPxHWM0r700n&app_code=CsZLIW2QCGZHZb5dZkh7Hw',\n",
       "   'type': 'urn:nlp-types:search',\n",
       "   'resultType': 'category'},\n",
       "  {'title': \"San Francisco Int'l Airport\",\n",
       "   'highlightedTitle': \"San Francisco Int'l <b>Airport</b>\",\n",
       "   'vicinity': 'San Francisco Airport Tram<br/>San Francisco, CA 94128',\n",
       "   'highlightedVicinity': 'San Francisco Airport Tram<br/>San Francisco, CA 94128',\n",
       "   'position': [37.61812, -122.38672],\n",
       "   'category': 'airport',\n",
       "   'categoryTitle': 'Airport',\n",
       "   'href': 'https://places.ls.hereapi.com/places/v1/places/8409q8vy-a15d57cb762e477399c6db7a0c24b262;context=Zmxvdy1pZD04MGNmOTE0ZC02MjFjLTVmNGYtYTRjMS02NTlhY2IyZWJkMmRfMTY2OTM3NjYzNjA2Ml8xMjQ3Xzk4MzgmcmFuaz0y?app_id=mvZteHJmFPxHWM0r700n&app_code=CsZLIW2QCGZHZb5dZkh7Hw',\n",
       "   'type': 'urn:nlp-types:place',\n",
       "   'resultType': 'place',\n",
       "   'id': '8409q8vy-a15d57cb762e477399c6db7a0c24b262',\n",
       "   'distance': 18549},\n",
       "  {'title': \"Oakland Int'l Airport\",\n",
       "   'highlightedTitle': \"Oakland Int'l <b>Airport</b>\",\n",
       "   'vicinity': '1 Airport Dr<br/>Oakland, CA 94621',\n",
       "   'highlightedVicinity': '1 Airport Dr<br/>Oakland, CA 94621',\n",
       "   'position': [37.71229, -122.21443],\n",
       "   'category': 'airport',\n",
       "   'categoryTitle': 'Airport',\n",
       "   'href': 'https://places.ls.hereapi.com/places/v1/places/8409q9ne-00162683d84040248688b593595194fe;context=Zmxvdy1pZD04MGNmOTE0ZC02MjFjLTVmNGYtYTRjMS02NTlhY2IyZWJkMmRfMTY2OTM3NjYzNjA2Ml8xMjQ3Xzk4MzgmcmFuaz0z?app_id=mvZteHJmFPxHWM0r700n&app_code=CsZLIW2QCGZHZb5dZkh7Hw',\n",
       "   'type': 'urn:nlp-types:place',\n",
       "   'resultType': 'place',\n",
       "   'id': '8409q9ne-00162683d84040248688b593595194fe',\n",
       "   'distance': 21171},\n",
       "  {'title': 'American Limousine (Airport Executive Limousine)',\n",
       "   'highlightedTitle': 'American Limousine (<b>Airport</b> Executive Limousine)',\n",
       "   'vicinity': 'Van Ness Ave<br/>San Francisco, CA 94102',\n",
       "   'highlightedVicinity': 'Van Ness Ave<br/>San Francisco, CA 94102',\n",
       "   'position': [37.777068, -122.419797],\n",
       "   'category': 'transport',\n",
       "   'categoryTitle': 'Transport',\n",
       "   'href': 'https://places.ls.hereapi.com/places/v1/places/8409q8yy-17e324cf477a4a11b5f60d008e3e26da;context=Zmxvdy1pZD04MGNmOTE0ZC02MjFjLTVmNGYtYTRjMS02NTlhY2IyZWJkMmRfMTY2OTM3NjYzNjA2Ml8xMjQ3Xzk4MzgmcmFuaz00?app_id=mvZteHJmFPxHWM0r700n&app_code=CsZLIW2QCGZHZb5dZkh7Hw',\n",
       "   'type': 'urn:nlp-types:place',\n",
       "   'resultType': 'place',\n",
       "   'id': '8409q8yy-17e324cf477a4a11b5f60d008e3e26da',\n",
       "   'distance': 1723},\n",
       "  {'title': 'San Carlos Airport',\n",
       "   'highlightedTitle': 'San Carlos <b>Airport</b>',\n",
       "   'vicinity': '620 Airport Dr<br/>San Carlos, CA 94070',\n",
       "   'highlightedVicinity': '620 Airport Dr<br/>San Carlos, CA 94070',\n",
       "   'position': [37.51549, -122.25076],\n",
       "   'category': 'airport',\n",
       "   'categoryTitle': 'Airport',\n",
       "   'href': 'https://places.ls.hereapi.com/places/v1/places/8409q9j6-9f77e50a3d7140648e4db0ca99cc7104;context=Zmxvdy1pZD04MGNmOTE0ZC02MjFjLTVmNGYtYTRjMS02NTlhY2IyZWJkMmRfMTY2OTM3NjYzNjA2Ml8xMjQ3Xzk4MzgmcmFuaz01?app_id=mvZteHJmFPxHWM0r700n&app_code=CsZLIW2QCGZHZb5dZkh7Hw',\n",
       "   'type': 'urn:nlp-types:place',\n",
       "   'resultType': 'place',\n",
       "   'id': '8409q9j6-9f77e50a3d7140648e4db0ca99cc7104',\n",
       "   'distance': 33732},\n",
       "  {'title': 'S Airport Blvd',\n",
       "   'highlightedTitle': 'S <b>Airport</b> Blvd',\n",
       "   'vicinity': 'South San Francisco, CA 94080',\n",
       "   'highlightedVicinity': 'South San Francisco, CA 94080',\n",
       "   'position': [37.63942, -122.40138],\n",
       "   'category': 'street-square',\n",
       "   'categoryTitle': 'Street or Square',\n",
       "   'bbox': [-122.405533, 37.636341, -122.399513, 37.64909],\n",
       "   'href': 'https://places.ls.hereapi.com/places/v1/places/loc-dmVyc2lvbj0xO3RpdGxlPVMrQWlycG9ydCtCbHZkO2xhbmc9ZW47bGF0PTM3LjYzOTQyO2xvbj0tMTIyLjQwMTM4O3N0cmVldD1TK0FpcnBvcnQrQmx2ZDtjaXR5PVNvdXRoK1NhbitGcmFuY2lzY287cG9zdGFsQ29kZT05NDA4MDtjb3VudHJ5PVVTQTtzdGF0ZT1DYWxpZm9ybmlhO3N0YXRlQ29kZT1DQTtjb3VudHk9U2FuK01hdGVvO2NhdGVnb3J5SWQ9c3RyZWV0LXNxdWFyZTtzb3VyY2VTeXN0ZW09aW50ZXJuYWw7cGRzQ2F0ZWdvcnlJZD05MDAtOTQwMC0wNDAx;context=Zmxvdy1pZD04MGNmOTE0ZC02MjFjLTVmNGYtYTRjMS02NTlhY2IyZWJkMmRfMTY2OTM3NjYzNjA2Ml8xMjQ3Xzk4MzgmYmJveD0tMTIyLjQwNTUzMjgzNjkxNDA2JTJDMzcuNjM2MzQxMDk0OTcwNyUyQy0xMjIuMzk5NTEzMjQ0NjI4OSUyQzM3LjY0OTA4OTgxMzIzMjQyJnJhbms9Ng?app_id=mvZteHJmFPxHWM0r700n&app_code=CsZLIW2QCGZHZb5dZkh7Hw',\n",
       "   'type': 'urn:nlp-types:place',\n",
       "   'resultType': 'address',\n",
       "   'id': 'loc-dmVyc2lvbj0xO3RpdGxlPVMrQWlycG9ydCtCbHZkO2xhbmc9ZW47bGF0PTM3LjYzOTQyO2xvbj0tMTIyLjQwMTM4O3N0cmVldD1TK0FpcnBvcnQrQmx2ZDtjaXR5PVNvdXRoK1NhbitGcmFuY2lzY287cG9zdGFsQ29kZT05NDA4MDtjb3VudHJ5PVVTQTtzdGF0ZT1DYWxpZm9ybmlhO3N0YXRlQ29kZT1DQTtjb3VudHk9U2FuK01hdGVvO2NhdGVnb3J5SWQ9c3RyZWV0LXNxdWFyZTtzb3VyY2VTeXN0ZW09aW50ZXJuYWw7cGRzQ2F0ZWdvcnlJZD05MDAtOTQwMC0wNDAx',\n",
       "   'distance': 15952},\n",
       "  {'title': 'Alpha Limousine (M & M Airport Limousine Company)',\n",
       "   'highlightedTitle': 'Alpha Limousine (M & M <b>Airport</b> Limousine Company)',\n",
       "   'vicinity': 'McAllister St<br/>San Francisco, CA 94102',\n",
       "   'highlightedVicinity': 'McAllister St<br/>San Francisco, CA 94102',\n",
       "   'position': [37.779826, -122.421053],\n",
       "   'category': 'transport',\n",
       "   'categoryTitle': 'Transport',\n",
       "   'href': 'https://places.ls.hereapi.com/places/v1/places/8409q8yy-fc28a556c9e94628868abb581f9cf0a1;context=Zmxvdy1pZD04MGNmOTE0ZC02MjFjLTVmNGYtYTRjMS02NTlhY2IyZWJkMmRfMTY2OTM3NjYzNjA2Ml8xMjQ3Xzk4MzgmcmFuaz03?app_id=mvZteHJmFPxHWM0r700n&app_code=CsZLIW2QCGZHZb5dZkh7Hw',\n",
       "   'type': 'urn:nlp-types:place',\n",
       "   'resultType': 'place',\n",
       "   'id': '8409q8yy-fc28a556c9e94628868abb581f9cf0a1',\n",
       "   'distance': 1581},\n",
       "  {'title': 'Palo Alto Airport',\n",
       "   'highlightedTitle': 'Palo Alto <b>Airport</b>',\n",
       "   'vicinity': '1925 Embarcadero Rd<br/>Palo Alto, CA 94303',\n",
       "   'highlightedVicinity': '1925 Embarcadero Rd<br/>Palo Alto, CA 94303',\n",
       "   'position': [37.454899, -122.109894],\n",
       "   'category': 'airport',\n",
       "   'categoryTitle': 'Airport',\n",
       "   'href': 'https://places.ls.hereapi.com/places/v1/places/8409q9jj-54f3511409914989a78c17a659202cd5;context=Zmxvdy1pZD04MGNmOTE0ZC02MjFjLTVmNGYtYTRjMS02NTlhY2IyZWJkMmRfMTY2OTM3NjYzNjA2Ml8xMjQ3Xzk4MzgmcmFuaz04?app_id=mvZteHJmFPxHWM0r700n&app_code=CsZLIW2QCGZHZb5dZkh7Hw',\n",
       "   'type': 'urn:nlp-types:place',\n",
       "   'resultType': 'place',\n",
       "   'id': '8409q9jj-54f3511409914989a78c17a659202cd5',\n",
       "   'distance': 46327},\n",
       "  {'title': 'Airport Express',\n",
       "   'highlightedTitle': '<b>Airport</b> Express',\n",
       "   'vicinity': '910 Harrison St<br/>San Francisco, CA 94107',\n",
       "   'highlightedVicinity': '910 Harrison St<br/>San Francisco, CA 94107',\n",
       "   'position': [37.77899, -122.40248],\n",
       "   'category': 'transport',\n",
       "   'categoryTitle': 'Transport',\n",
       "   'href': 'https://places.ls.hereapi.com/places/v1/places/8409q8yy-51133912ac444ee3a2a4886944e55fc3;context=Zmxvdy1pZD04MGNmOTE0ZC02MjFjLTVmNGYtYTRjMS02NTlhY2IyZWJkMmRfMTY2OTM3NjYzNjA2Ml8xMjQ3Xzk4MzgmcmFuaz05?app_id=mvZteHJmFPxHWM0r700n&app_code=CsZLIW2QCGZHZb5dZkh7Hw',\n",
       "   'type': 'urn:nlp-types:place',\n",
       "   'resultType': 'place',\n",
       "   'id': '8409q8yy-51133912ac444ee3a2a4886944e55fc3',\n",
       "   'distance': 3219},\n",
       "  {'title': 'S Airport Blvd',\n",
       "   'highlightedTitle': 'S <b>Airport</b> Blvd',\n",
       "   'vicinity': 'San Francisco, CA 94128',\n",
       "   'highlightedVicinity': 'San Francisco, CA 94128',\n",
       "   'position': [37.63333, -122.39796],\n",
       "   'category': 'street-square',\n",
       "   'categoryTitle': 'Street or Square',\n",
       "   'bbox': [-122.399658, 37.633308, -122.397942, 37.636341],\n",
       "   'href': 'https://places.ls.hereapi.com/places/v1/places/loc-dmVyc2lvbj0xO3RpdGxlPVMrQWlycG9ydCtCbHZkO2xhbmc9ZW47bGF0PTM3LjYzMzMzO2xvbj0tMTIyLjM5Nzk2O3N0cmVldD1TK0FpcnBvcnQrQmx2ZDtjaXR5PVNhbitGcmFuY2lzY287cG9zdGFsQ29kZT05NDEyODtjb3VudHJ5PVVTQTtzdGF0ZT1DYWxpZm9ybmlhO3N0YXRlQ29kZT1DQTtjb3VudHk9U2FuK01hdGVvO2NhdGVnb3J5SWQ9c3RyZWV0LXNxdWFyZTtzb3VyY2VTeXN0ZW09aW50ZXJuYWw7cGRzQ2F0ZWdvcnlJZD05MDAtOTQwMC0wNDAx;context=Zmxvdy1pZD04MGNmOTE0ZC02MjFjLTVmNGYtYTRjMS02NTlhY2IyZWJkMmRfMTY2OTM3NjYzNjA2Ml8xMjQ3Xzk4MzgmYmJveD0tMTIyLjM5OTY1ODIwMzEyNSUyQzM3LjYzMzMwODQxMDY0NDUzJTJDLTEyMi4zOTc5NDE1ODkzNTU0NyUyQzM3LjYzNjM0MTA5NDk3MDcmcmFuaz0xMA?app_id=mvZteHJmFPxHWM0r700n&app_code=CsZLIW2QCGZHZb5dZkh7Hw',\n",
       "   'type': 'urn:nlp-types:place',\n",
       "   'resultType': 'address',\n",
       "   'id': 'loc-dmVyc2lvbj0xO3RpdGxlPVMrQWlycG9ydCtCbHZkO2xhbmc9ZW47bGF0PTM3LjYzMzMzO2xvbj0tMTIyLjM5Nzk2O3N0cmVldD1TK0FpcnBvcnQrQmx2ZDtjaXR5PVNhbitGcmFuY2lzY287cG9zdGFsQ29kZT05NDEyODtjb3VudHJ5PVVTQTtzdGF0ZT1DYWxpZm9ybmlhO3N0YXRlQ29kZT1DQTtjb3VudHk9U2FuK01hdGVvO2NhdGVnb3J5SWQ9c3RyZWV0LXNxdWFyZTtzb3VyY2VTeXN0ZW09aW50ZXJuYWw7cGRzQ2F0ZWdvcnlJZD05MDAtOTQwMC0wNDAx',\n",
       "   'distance': 16676},\n",
       "  {'title': 'Hayward Executive Airport',\n",
       "   'highlightedTitle': 'Hayward Executive <b>Airport</b>',\n",
       "   'vicinity': '20301 Skywest Dr<br/>Hayward, CA 94541',\n",
       "   'highlightedVicinity': '20301 Skywest Dr<br/>Hayward, CA 94541',\n",
       "   'position': [37.66266, -122.12129],\n",
       "   'category': 'airport',\n",
       "   'categoryTitle': 'Airport',\n",
       "   'href': 'https://places.ls.hereapi.com/places/v1/places/8409q9nm-190844cd6da94c438e070234fbf4bed1;context=Zmxvdy1pZD04MGNmOTE0ZC02MjFjLTVmNGYtYTRjMS02NTlhY2IyZWJkMmRfMTY2OTM3NjYzNjA2Ml8xMjQ3Xzk4MzgmcmFuaz0xMQ?app_id=mvZteHJmFPxHWM0r700n&app_code=CsZLIW2QCGZHZb5dZkh7Hw',\n",
       "   'type': 'urn:nlp-types:place',\n",
       "   'resultType': 'place',\n",
       "   'id': '8409q9nm-190844cd6da94c438e070234fbf4bed1',\n",
       "   'distance': 30890},\n",
       "  {'title': 'Reid-Hillview Airport',\n",
       "   'highlightedTitle': 'Reid-Hillview <b>Airport</b>',\n",
       "   'vicinity': '2500 Cunningham Ave<br/>San Jose, CA 95148',\n",
       "   'highlightedVicinity': '2500 Cunningham Ave<br/>San Jose, CA 95148',\n",
       "   'position': [37.33631, -121.81963],\n",
       "   'category': 'airport',\n",
       "   'categoryTitle': 'Airport',\n",
       "   'href': 'https://places.ls.hereapi.com/places/v1/places/8409q9k7-7f2979bdeee4452cbb6a80d1c53ae2bd;context=Zmxvdy1pZD04MGNmOTE0ZC02MjFjLTVmNGYtYTRjMS02NTlhY2IyZWJkMmRfMTY2OTM3NjYzNjA2Ml8xMjQ3Xzk4MzgmcmFuaz0xMg?app_id=mvZteHJmFPxHWM0r700n&app_code=CsZLIW2QCGZHZb5dZkh7Hw',\n",
       "   'type': 'urn:nlp-types:place',\n",
       "   'resultType': 'place',\n",
       "   'id': '8409q9k7-7f2979bdeee4452cbb6a80d1c53ae2bd',\n",
       "   'distance': 73620},\n",
       "  {'title': 'Airport Blvd',\n",
       "   'highlightedTitle': '<b>Airport</b> Blvd',\n",
       "   'vicinity': 'Burlingame, CA 94010',\n",
       "   'highlightedVicinity': 'Burlingame, CA 94010',\n",
       "   'position': [37.58944, -122.34224],\n",
       "   'category': 'street-square',\n",
       "   'categoryTitle': 'Street or Square',\n",
       "   'bbox': [-122.360893, 37.58717, -122.334419, 37.591961],\n",
       "   'href': 'https://places.ls.hereapi.com/places/v1/places/loc-dmVyc2lvbj0xO3RpdGxlPUFpcnBvcnQrQmx2ZDtsYW5nPWVuO2xhdD0zNy41ODk0NDtsb249LTEyMi4zNDIyNDtzdHJlZXQ9QWlycG9ydCtCbHZkO2NpdHk9QnVybGluZ2FtZTtwb3N0YWxDb2RlPTk0MDEwO2NvdW50cnk9VVNBO3N0YXRlPUNhbGlmb3JuaWE7c3RhdGVDb2RlPUNBO2NvdW50eT1TYW4rTWF0ZW87Y2F0ZWdvcnlJZD1zdHJlZXQtc3F1YXJlO3NvdXJjZVN5c3RlbT1pbnRlcm5hbDtwZHNDYXRlZ29yeUlkPTkwMC05NDAwLTA0MDE;context=Zmxvdy1pZD04MGNmOTE0ZC02MjFjLTVmNGYtYTRjMS02NTlhY2IyZWJkMmRfMTY2OTM3NjYzNjA2Ml8xMjQ3Xzk4MzgmYmJveD0tMTIyLjM2MDg5MzI0OTUxMTcyJTJDMzcuNTg3MTY5NjQ3MjE2OCUyQy0xMjIuMzM0NDE5MjUwNDg4MjglMkMzNy41OTE5NjA5MDY5ODI0MiZyYW5rPTEz?app_id=mvZteHJmFPxHWM0r700n&app_code=CsZLIW2QCGZHZb5dZkh7Hw',\n",
       "   'type': 'urn:nlp-types:place',\n",
       "   'resultType': 'address',\n",
       "   'id': 'loc-dmVyc2lvbj0xO3RpdGxlPUFpcnBvcnQrQmx2ZDtsYW5nPWVuO2xhdD0zNy41ODk0NDtsb249LTEyMi4zNDIyNDtzdHJlZXQ9QWlycG9ydCtCbHZkO2NpdHk9QnVybGluZ2FtZTtwb3N0YWxDb2RlPTk0MDEwO2NvdW50cnk9VVNBO3N0YXRlPUNhbGlmb3JuaWE7c3RhdGVDb2RlPUNBO2NvdW50eT1TYW4rTWF0ZW87Y2F0ZWdvcnlJZD1zdHJlZXQtc3F1YXJlO3NvdXJjZVN5c3RlbT1pbnRlcm5hbDtwZHNDYXRlZ29yeUlkPTkwMC05NDAwLTA0MDE',\n",
       "   'distance': 22808},\n",
       "  {'title': 'Sacramento Executive Airport',\n",
       "   'highlightedTitle': 'Sacramento Executive <b>Airport</b>',\n",
       "   'vicinity': '6151 Freeport Blvd<br/>Sacramento, CA 95822',\n",
       "   'highlightedVicinity': '6151 Freeport Blvd<br/>Sacramento, CA 95822',\n",
       "   'position': [38.51441, -121.49898],\n",
       "   'category': 'airport',\n",
       "   'categoryTitle': 'Airport',\n",
       "   'href': 'https://places.ls.hereapi.com/places/v1/places/8409qce5-c0043d6e186d4cc08cee0f9130889329;context=Zmxvdy1pZD04MGNmOTE0ZC02MjFjLTVmNGYtYTRjMS02NTlhY2IyZWJkMmRfMTY2OTM3NjYzNjA2Ml8xMjQ3Xzk4MzgmcmFuaz0xNA?app_id=mvZteHJmFPxHWM0r700n&app_code=CsZLIW2QCGZHZb5dZkh7Hw',\n",
       "   'type': 'urn:nlp-types:place',\n",
       "   'resultType': 'place',\n",
       "   'id': '8409qce5-c0043d6e186d4cc08cee0f9130889329',\n",
       "   'distance': 115908},\n",
       "  {'title': 'Airport Dr',\n",
       "   'highlightedTitle': '<b>Airport</b> Dr',\n",
       "   'vicinity': 'Oakland, CA 94621',\n",
       "   'highlightedVicinity': 'Oakland, CA 94621',\n",
       "   'position': [37.71965, -122.20218],\n",
       "   'category': 'street-square',\n",
       "   'categoryTitle': 'Street or Square',\n",
       "   'bbox': [-122.213829, 37.711552, -122.19944, 37.726528],\n",
       "   'href': 'https://places.ls.hereapi.com/places/v1/places/loc-dmVyc2lvbj0xO3RpdGxlPUFpcnBvcnQrRHI7bGFuZz1lbjtsYXQ9MzcuNzE5NjU7bG9uPS0xMjIuMjAyMTg7c3RyZWV0PUFpcnBvcnQrRHI7Y2l0eT1PYWtsYW5kO3Bvc3RhbENvZGU9OTQ2MjE7Y291bnRyeT1VU0E7c3RhdGU9Q2FsaWZvcm5pYTtzdGF0ZUNvZGU9Q0E7Y291bnR5PUFsYW1lZGE7Y2F0ZWdvcnlJZD1zdHJlZXQtc3F1YXJlO3NvdXJjZVN5c3RlbT1pbnRlcm5hbDtwZHNDYXRlZ29yeUlkPTkwMC05NDAwLTA0MDE;context=Zmxvdy1pZD04MGNmOTE0ZC02MjFjLTVmNGYtYTRjMS02NTlhY2IyZWJkMmRfMTY2OTM3NjYzNjA2Ml8xMjQ3Xzk4MzgmYmJveD0tMTIyLjIxMzgyOTA0MDUyNzM0JTJDMzcuNzExNTUxNjY2MjU5NzY2JTJDLTEyMi4xOTk0NDAwMDI0NDE0JTJDMzcuNzI2NTI4MTY3NzI0NjEmcmFuaz0xNQ?app_id=mvZteHJmFPxHWM0r700n&app_code=CsZLIW2QCGZHZb5dZkh7Hw',\n",
       "   'type': 'urn:nlp-types:place',\n",
       "   'resultType': 'address',\n",
       "   'id': 'loc-dmVyc2lvbj0xO3RpdGxlPUFpcnBvcnQrRHI7bGFuZz1lbjtsYXQ9MzcuNzE5NjU7bG9uPS0xMjIuMjAyMTg7c3RyZWV0PUFpcnBvcnQrRHI7Y2l0eT1PYWtsYW5kO3Bvc3RhbENvZGU9OTQ2MjE7Y291bnRyeT1VU0E7c3RhdGU9Q2FsaWZvcm5pYTtzdGF0ZUNvZGU9Q0E7Y291bnR5PUFsYW1lZGE7Y2F0ZWdvcnlJZD1zdHJlZXQtc3F1YXJlO3NvdXJjZVN5c3RlbT1pbnRlcm5hbDtwZHNDYXRlZ29yeUlkPTkwMC05NDAwLTA0MDE',\n",
       "   'distance': 21919},\n",
       "  {'title': 'Napa County Airport',\n",
       "   'highlightedTitle': 'Napa County <b>Airport</b>',\n",
       "   'vicinity': '2030 Airport Rd<br/>Napa, CA 94558',\n",
       "   'highlightedVicinity': '2030 Airport Rd<br/>Napa, CA 94558',\n",
       "   'position': [38.21729, -122.27304],\n",
       "   'category': 'airport',\n",
       "   'categoryTitle': 'Airport',\n",
       "   'href': 'https://places.ls.hereapi.com/places/v1/places/8409qc13-3d2d0460c13745d5bd845598d7af2002;context=Zmxvdy1pZD04MGNmOTE0ZC02MjFjLTVmNGYtYTRjMS02NTlhY2IyZWJkMmRfMTY2OTM3NjYzNjA2Ml8xMjQ3Xzk4MzgmcmFuaz0xNg?app_id=mvZteHJmFPxHWM0r700n&app_code=CsZLIW2QCGZHZb5dZkh7Hw',\n",
       "   'type': 'urn:nlp-types:place',\n",
       "   'resultType': 'place',\n",
       "   'id': '8409qc13-3d2d0460c13745d5bd845598d7af2002',\n",
       "   'distance': 50679},\n",
       "  {'title': 'Stockton Metropolitan Airport',\n",
       "   'highlightedTitle': 'Stockton Metropolitan <b>Airport</b>',\n",
       "   'vicinity': '5000 S Airport Way<br/>Stockton, CA 95206',\n",
       "   'highlightedVicinity': '5000 S Airport Way<br/>Stockton, CA 95206',\n",
       "   'position': [37.89677, -121.251515],\n",
       "   'category': 'airport',\n",
       "   'categoryTitle': 'Airport',\n",
       "   'href': 'https://places.ls.hereapi.com/places/v1/places/8409q9z8-ba790d6bcdf74bafa018b6689b5ddc5f;context=Zmxvdy1pZD04MGNmOTE0ZC02MjFjLTVmNGYtYTRjMS02NTlhY2IyZWJkMmRfMTY2OTM3NjYzNjA2Ml8xMjQ3Xzk4MzgmcmFuaz0xNw?app_id=mvZteHJmFPxHWM0r700n&app_code=CsZLIW2QCGZHZb5dZkh7Hw',\n",
       "   'type': 'urn:nlp-types:place',\n",
       "   'resultType': 'place',\n",
       "   'id': '8409q9z8-ba790d6bcdf74bafa018b6689b5ddc5f',\n",
       "   'distance': 105328},\n",
       "  {'title': 'Airport Commuter Limo Worldwide',\n",
       "   'highlightedTitle': '<b>Airport</b> Commuter Limo Worldwide',\n",
       "   'vicinity': '14th St<br/>San Francisco, CA 94103',\n",
       "   'highlightedVicinity': '14th St<br/>San Francisco, CA 94103',\n",
       "   'position': [37.76864, -122.41876],\n",
       "   'category': 'transport',\n",
       "   'categoryTitle': 'Transport',\n",
       "   'href': 'https://places.ls.hereapi.com/places/v1/places/8408lxx5-57e5c7c037d90e89be37e4c21abd5b3d;context=Zmxvdy1pZD04MGNmOTE0ZC02MjFjLTVmNGYtYTRjMS02NTlhY2IyZWJkMmRfMTY2OTM3NjYzNjA2Ml8xMjQ3Xzk4MzgmcmFuaz0xOA?app_id=mvZteHJmFPxHWM0r700n&app_code=CsZLIW2QCGZHZb5dZkh7Hw',\n",
       "   'type': 'urn:nlp-types:place',\n",
       "   'resultType': 'place',\n",
       "   'id': '8408lxx5-57e5c7c037d90e89be37e4c21abd5b3d',\n",
       "   'distance': 2184},\n",
       "  {'title': 'Livermore Municipal Airport',\n",
       "   'highlightedTitle': 'Livermore Municipal <b>Airport</b>',\n",
       "   'vicinity': '636 Terminal Cir<br/>Livermore, CA 94551',\n",
       "   'highlightedVicinity': '636 Terminal Cir<br/>Livermore, CA 94551',\n",
       "   'position': [37.69598, -121.81878],\n",
       "   'category': 'airport',\n",
       "   'categoryTitle': 'Airport',\n",
       "   'href': 'https://places.ls.hereapi.com/places/v1/places/8409q9q7-dd8d062355314d0783ad6b202ddb46a0;context=Zmxvdy1pZD04MGNmOTE0ZC02MjFjLTVmNGYtYTRjMS02NTlhY2IyZWJkMmRfMTY2OTM3NjYzNjA2Ml8xMjQ3Xzk4MzgmcmFuaz0xOQ?app_id=mvZteHJmFPxHWM0r700n&app_code=CsZLIW2QCGZHZb5dZkh7Hw',\n",
       "   'type': 'urn:nlp-types:place',\n",
       "   'resultType': 'place',\n",
       "   'id': '8409q9q7-dd8d062355314d0783ad6b202ddb46a0',\n",
       "   'distance': 55458}]}"
      ]
     },
     "execution_count": 37,
     "metadata": {},
     "output_type": "execute_result"
    }
   ],
   "source": [
    "api_key = \"zS8ZbmTHuQSiXE3zy1CwsBZwoG5zCPakrgPVTqGMyug\"\n",
    "long = -122.43\n",
    "lat = 37.78\n",
    "lk = input()\n",
    "url2 = f\"https://places.ls.hereapi.com/places/v1/autosuggest?at={lat},{long}9&q={lk}&apiKey={api_key}\"\n",
    "a = req.get(url2)\n",
    "f = a.json()\n",
    "f"
   ]
  },
  {
   "cell_type": "code",
   "execution_count": 38,
   "id": "3ebd6a74",
   "metadata": {},
   "outputs": [
    {
     "data": {
      "text/plain": [
       "20"
      ]
     },
     "execution_count": 38,
     "metadata": {},
     "output_type": "execute_result"
    }
   ],
   "source": [
    "len(f['results'])"
   ]
  },
  {
   "cell_type": "code",
   "execution_count": null,
   "id": "6a7a52a3",
   "metadata": {},
   "outputs": [],
   "source": []
  }
 ],
 "metadata": {
  "kernelspec": {
   "display_name": "Python 3 (ipykernel)",
   "language": "python",
   "name": "python3"
  },
  "language_info": {
   "codemirror_mode": {
    "name": "ipython",
    "version": 3
   },
   "file_extension": ".py",
   "mimetype": "text/x-python",
   "name": "python",
   "nbconvert_exporter": "python",
   "pygments_lexer": "ipython3",
   "version": "3.10.7"
  }
 },
 "nbformat": 4,
 "nbformat_minor": 5
}
